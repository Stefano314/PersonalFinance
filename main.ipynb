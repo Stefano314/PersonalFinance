{
 "cells": [
  {
   "cell_type": "code",
   "execution_count": null,
   "id": "0ef1a353",
   "metadata": {},
   "outputs": [],
   "source": [
    "# Generic\n",
    "import numpy as np\n",
    "import matplotlib.pyplot as plt\n",
    "\n",
    "# Read\n",
    "from Libs.Management.bank_api import get_current_balance, get_history_balance, get_history_movements\n",
    "\n",
    "# Write\n",
    "from Libs.Management.bank_api import update_balance_file, update_movements_file"
   ]
  },
  {
   "cell_type": "code",
   "execution_count": null,
   "id": "127ea04d",
   "metadata": {},
   "outputs": [],
   "source": [
    "import polars as pl\n",
    "import numpy as np\n",
    "from Libs.Management.bank_api import get_current_balance, update_balance_file, get_history_balance, get_history_movements, update_movements_file, reconstruct_balance, update_balance_from_movements\n",
    "get_current_balance()\n",
    "balance_df = get_history_balance()\n",
    "movements_df = get_history_movements()\n",
    "update_movements_file(new_orig_mov_file='data/raw_data/20250604_ListaOperazioni.xlsx')\n",
    "reconstruct_balance()\n",
    "update_balance_from_movements()\n"
   ]
  },
  {
   "cell_type": "code",
   "execution_count": null,
   "id": "091b4317",
   "metadata": {},
   "outputs": [],
   "source": [
    "from Libs.Models.data_visualization import plot_history_movements, plot_history_balance\n",
    "plot_history_movements()#time_threshold='2025-03-01')\n",
    "plot_history_balance()"
   ]
  }
 ],
 "metadata": {
  "kernelspec": {
   "display_name": "Python 3",
   "language": "python",
   "name": "python3"
  },
  "language_info": {
   "codemirror_mode": {
    "name": "ipython",
    "version": 3
   },
   "file_extension": ".py",
   "mimetype": "text/x-python",
   "name": "python",
   "nbconvert_exporter": "python",
   "pygments_lexer": "ipython3",
   "version": "3.11.9"
  }
 },
 "nbformat": 4,
 "nbformat_minor": 5
}
