{
 "cells": [
  {
   "cell_type": "code",
   "execution_count": null,
   "id": "0ef1a353",
   "metadata": {},
   "outputs": [],
   "source": [
    "# from Libs.Profile.stocks import Stock, project_stock_price, plot_stock_value\n",
    "# from Libs.Profile.portfolio import FinancialPortfolio\n",
    "# import os\n",
    "# from Libs.global_vars import STOCKS_HISTORY_PATH\n",
    "\n",
    "# portfolio = FinancialPortfolio('verybigpack')\n",
    "\n",
    "# # Load every file\n",
    "# for file_stock in [f for f in os.listdir(STOCKS_HISTORY_PATH) if f.endswith('.csv')]:\n",
    "#     portfolio.add_stock(Stock(stock_to_load=file_stock))\n",
    "# # print(portfolio)\n",
    "# portfolio.get_ammounts_with_risks()\n",
    "\n",
    "# test = portfolio.get_stock('S&P500')\n",
    "# test.update_stock(stock_prior_risk=0.02)\n",
    "# # test.stock_history['date'] = ['2025-03-06 11:36:22', '2025-04-06 11:36:22', '2025-06-08 00:59:51', '2025-06-06 00:59:51', '2025-06-28 00:59:51', '2025-07-03 00:59:51', '2025-07-08 00:59:51', '2025-07-09 00:59:51', '2025-06-08 00:59:51', '2025-06-08 00:59:51', '2025-06-08 00:59:51', '2025-06-08 00:59:51', '2025-06-08 00:59:51', '2025-06-08 00:59:51', '2025-06-08 00:59:51', '2025-06-08 00:59:51', '2025-06-08 00:59:51', '2025-06-08 00:59:51', '2025-06-08 00:59:51', '2025-06-08 00:59:51', '2025-06-08 00:59:51', '2025-06-08 00:59:51', '2025-06-08 00:59:51', '2025-06-08 00:59:51', '2025-06-08 00:59:51', '2025-06-08 00:59:51', '2025-06-08 00:59:51', '2025-06-08 00:59:51', '2025-06-08 00:59:51', '2025-06-08 00:59:51', '2025-06-08 00:59:51', '2025-06-08 00:59:51', '2025-06-08 00:59:51', '2025-06-08 00:59:51', '2025-06-08 00:59:51', '2025-06-08 00:59:51', '2025-06-08 00:59:51', '2025-06-08 00:59:51', '2025-06-08 00:59:51', '2025-06-08 00:59:51', '2025-06-08 00:59:51', '2025-06-08 00:59:51', '2025-06-08 00:59:51', '2025-06-08 00:59:51', '2025-06-08 00:59:51', '2025-06-08 00:59:51', '2025-06-08 00:59:51', '2025-06-08 00:59:51', '2025-06-08 00:59:51', '2025-06-08 00:59:51', '2025-06-08 00:59:51', '2025-06-08 00:59:51', '2025-06-08 00:59:51']\n",
    "# import numpy as np\n",
    "# for i in np.random.normal(50,2,5):\n",
    "#     test.update_stock(stock_price=i)\n",
    "# test.stock_history['date']=['2025-02-06 11:36:22', '2025-03-06 11:36:22', '2025-04-08 01:02:26', '2025-04-28 01:02:26', '2025-05-02 01:02:26', '2025-05-08 01:02:26', '2025-06-04 01:02:26', '2025-06-08 01:02:26']\n",
    "\n",
    "# plot_stock_value(test)\n"
   ]
  },
  {
   "cell_type": "markdown",
   "id": "f7e984d7",
   "metadata": {},
   "source": [
    "## **Update Movements**"
   ]
  },
  {
   "cell_type": "code",
   "execution_count": null,
   "id": "5b6cef01",
   "metadata": {},
   "outputs": [],
   "source": [
    "# import polars as pl\n",
    "# import numpy as np\n",
    "# from Libs.Management.bank_api import get_history_movements, update_movements_file\n",
    "# update_movements_file(new_orig_mov_file='data/raw_data/operazioni.xlsx', header_start=17)\n",
    "# get_history_movements().head()"
   ]
  },
  {
   "cell_type": "markdown",
   "id": "9e4bb8af",
   "metadata": {},
   "source": [
    "## **Update Balance**"
   ]
  },
  {
   "cell_type": "code",
   "execution_count": null,
   "id": "037ac16d",
   "metadata": {},
   "outputs": [],
   "source": [
    "import polars as pl\n",
    "import numpy as np\n",
    "from Libs.Management.bank_api import get_current_balance, get_history_balance, reconstruct_balance, update_balance_from_movements\n",
    "# reconstruct_balance(current_balance=to_give) # Only for creating the balance history\n",
    "update_balance_from_movements()\n",
    "get_history_balance().head()"
   ]
  },
  {
   "cell_type": "markdown",
   "id": "a9a0fcd0",
   "metadata": {},
   "source": [
    "# **Prediciton from Balance Example**"
   ]
  },
  {
   "cell_type": "code",
   "execution_count": null,
   "id": "ea35e252",
   "metadata": {},
   "outputs": [],
   "source": []
  },
  {
   "cell_type": "code",
   "execution_count": null,
   "id": "091b4317",
   "metadata": {},
   "outputs": [],
   "source": [
    "from Libs.Models.data_visualization import plot_history_balance, plot_generic_polars\n",
    "from Libs.Management.bank_api import get_history_balance\n",
    "from Libs.Models.data_manipulation import get_regularized_dataset, get_moving_average, add_periodic_income\n",
    "\n",
    "# Get Balance, regularize it and take the moving average\n",
    "balance_df = get_history_balance()\n",
    "df = get_regularized_dataset(balance_df, reg_period='1d')\n",
    "df_ma = get_moving_average(df, window_size=15)\n",
    "\n",
    "# Perform date to int conversion so that we can perform data imputation on the missing vals from moving average\n",
    "from Libs.Models.data_manipulation import simple_linear_imputation, convert_date_to_numeric, convert_numeric_to_date\n",
    "df_ma_imputed = convert_date_to_numeric(df_ma, ['date'])\n",
    "df_ma_imputed = simple_linear_imputation(df_ma_imputed, 'date', 'moving_average')\n",
    "\n",
    "# Perform a linear fit on the imputed dataset and go back to date format\n",
    "from Libs.Models.Predictions.algorithms import linear_fit, fit_generic_polynomial_statsmodel\n",
    "from Libs.Models.Predictions.algorithms import get_model_prediction, model_predict_statsmodel\n",
    "# df_ma_imputed, linear_model = linear_fit(dataset=df_ma_imputed, cols_to_fit=None)\n",
    "df_ma_imputed, linear_model = fit_generic_polynomial_statsmodel(dataset=df_ma_imputed, x_col='date', y_col='moving_average')\n",
    "df_ma_imputed = convert_numeric_to_date(df_ma_imputed, ['date'])\n",
    "\n",
    "# Define some new dates for forecasting and perform the prediction with the model created\n",
    "X = convert_date_to_numeric(['2025-06-01', '2025-07-01', '2025-08-01', '2030-08-01'])\n",
    "# pred_df = get_model_prediction(X, linear_model)\n",
    "pred_df, prediction = model_predict_statsmodel(X=X, model=linear_model)\n",
    "\n",
    "pred_df = convert_numeric_to_date(pred_df, date_cols=['date'])\n",
    "\n",
    "# Show the results\n",
    "plot_history_balance(balance_df=df)\n",
    "plot_generic_polars(dataset=df_ma, x_col='date', y_col='moving_average', params={'figsize':(10,5), 'label':'moving average', 'marker':'', 'linewidth':3, 'color':'darkblue'})\n",
    "df_ma_imputed_new = add_periodic_income(1500.0, day=15, periodicity='month', start_date='2024-01-01', end_date='2024-06-01')\n",
    "plot_generic_polars(dataset=df_ma_imputed, x_col='date', y_col='moving_average', params={'figsize':(10,5), 'label':'imputed data', 'marker':'', 'linewidth':1, 'color':'red'})\n",
    "plot_generic_polars(dataset=pred_df, x_col='date', y_col='model_prediction', params={'figsize':(10,5), 'label':'prediction', 'color':'darkred', 'confidence_belt':['mean_ci_lower', 'mean_ci_upper']})\n",
    "\n",
    "from Libs.Models.data_visualization import get_uniformed_list, plot_generic_timeseries\n",
    "uniformed_vals = get_uniformed_list([df_ma_imputed['moving_average'].to_list(), pred_df['model_prediction'].to_list()])\n",
    "fig = plot_generic_timeseries([None]*len(uniformed_vals), uniformed_vals, params={'xlabel':'dates', 'ylabel':'EUR', 'title':'Plot Simulation'})\n"
   ]
  },
  {
   "cell_type": "code",
   "execution_count": null,
   "id": "658e4e69",
   "metadata": {},
   "outputs": [],
   "source": [
    "\n",
    "from Libs.Models.data_manipulation import add_periodic_income\n",
    "# Using string dates for custom date range\n",
    "custom_income1 = add_periodic_income(1500.0, day=15, periodicity='month', start_date='2024-01-01', end_date='2024-06-01')\n",
    "custom_income2 = add_periodic_income(1111.0, day=15, periodicity='month', start_date='2024-01-03', end_date='2024-07-06')\n",
    "\n"
   ]
  },
  {
   "cell_type": "code",
   "execution_count": null,
   "id": "09c4d03f",
   "metadata": {},
   "outputs": [],
   "source": [
    "df_ma['date'].to_list()[0].strftime(\"%Y-%m-%d\")\n"
   ]
  },
  {
   "cell_type": "code",
   "execution_count": null,
   "id": "281a7fb7",
   "metadata": {},
   "outputs": [],
   "source": [
    "pred_df"
   ]
  },
  {
   "cell_type": "code",
   "execution_count": null,
   "id": "f9430b5c",
   "metadata": {},
   "outputs": [],
   "source": [
    "linear_model['model']."
   ]
  },
  {
   "cell_type": "code",
   "execution_count": null,
   "id": "aab34e74",
   "metadata": {},
   "outputs": [],
   "source": [
    "from Libs.Models.Predictions.algorithms import goal_reach_prediction\n",
    "goal_reach_prediction(linear_model, '2025-07-01', 15_000)"
   ]
  },
  {
   "cell_type": "code",
   "execution_count": null,
   "id": "909b2649",
   "metadata": {},
   "outputs": [],
   "source": [
    "all([None, 1, None])"
   ]
  },
  {
   "cell_type": "code",
   "execution_count": null,
   "id": "bc9d4a99",
   "metadata": {},
   "outputs": [],
   "source": [
    "from Libs.Models.data_visualization import get_uniformed_list, plot_generic_timeseries\n",
    "import numpy as np\n",
    "\n",
    "range1 = ['2025-09-01', '2025-10-02', '2025-11-3','2025-11-04','2025-11-05']\n",
    "vals1 = np.random.rand(len(range1))*10+np.linspace(0,10, len(range1))\n",
    "\n",
    "range2 = ['2025-10-03', '2025-10-11', '2025-11-02', '2025-11-04']\n",
    "vals2 = np.random.rand(len(range2))+np.linspace(0,10, len(range2))\n",
    "\n",
    "plot_generic_timeseries(range1, vals1, params={'label':'vals1', 'color':'black'})\n",
    "plot_generic_timeseries(range2, vals2, params={'label':'vals2', 'color':'red'})\n",
    "\n",
    "uniformed_x = get_uniformed_list([range1,range2])\n",
    "fig = plot_generic_timeseries(uniformed_x, [None]*len(uniformed_x), params={'xlabel':'dates', 'ylabel':'EUR', 'title':'Plot Simulation'})\n",
    "fig.set_size_inches((10, 6))\n",
    "fig.show()"
   ]
  }
 ],
 "metadata": {
  "kernelspec": {
   "display_name": "Python 3",
   "language": "python",
   "name": "python3"
  },
  "language_info": {
   "codemirror_mode": {
    "name": "ipython",
    "version": 3
   },
   "file_extension": ".py",
   "mimetype": "text/x-python",
   "name": "python",
   "nbconvert_exporter": "python",
   "pygments_lexer": "ipython3",
   "version": "3.11.9"
  }
 },
 "nbformat": 4,
 "nbformat_minor": 5
}
