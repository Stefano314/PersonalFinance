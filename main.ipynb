{
 "cells": [
  {
   "cell_type": "code",
   "execution_count": null,
   "id": "0ef1a353",
   "metadata": {},
   "outputs": [],
   "source": [
    "from Libs.Profile.stocks import Stock, project_stock_price, plot_stock_value\n",
    "from Libs.Profile.portfolio import FinancialPortfolio\n",
    "import os\n",
    "from Libs.global_vars import STOCKS_HISTORY_PATH\n",
    "\n",
    "portfolio = FinancialPortfolio('verybigpack')\n",
    "\n",
    "# Load every file\n",
    "for file_stock in [f for f in os.listdir(STOCKS_HISTORY_PATH) if f.endswith('.csv')]:\n",
    "    portfolio.add_stock(Stock(stock_to_load=file_stock))\n",
    "# print(portfolio)\n",
    "portfolio.get_ammounts_with_risks()\n",
    "\n",
    "test = portfolio.get_stock('S&P500')\n",
    "test.update_stock(stock_prior_risk=0.02)\n",
    "# test.stock_history['date'] = ['2025-03-06 11:36:22', '2025-04-06 11:36:22', '2025-06-08 00:59:51', '2025-06-06 00:59:51', '2025-06-28 00:59:51', '2025-07-03 00:59:51', '2025-07-08 00:59:51', '2025-07-09 00:59:51', '2025-06-08 00:59:51', '2025-06-08 00:59:51', '2025-06-08 00:59:51', '2025-06-08 00:59:51', '2025-06-08 00:59:51', '2025-06-08 00:59:51', '2025-06-08 00:59:51', '2025-06-08 00:59:51', '2025-06-08 00:59:51', '2025-06-08 00:59:51', '2025-06-08 00:59:51', '2025-06-08 00:59:51', '2025-06-08 00:59:51', '2025-06-08 00:59:51', '2025-06-08 00:59:51', '2025-06-08 00:59:51', '2025-06-08 00:59:51', '2025-06-08 00:59:51', '2025-06-08 00:59:51', '2025-06-08 00:59:51', '2025-06-08 00:59:51', '2025-06-08 00:59:51', '2025-06-08 00:59:51', '2025-06-08 00:59:51', '2025-06-08 00:59:51', '2025-06-08 00:59:51', '2025-06-08 00:59:51', '2025-06-08 00:59:51', '2025-06-08 00:59:51', '2025-06-08 00:59:51', '2025-06-08 00:59:51', '2025-06-08 00:59:51', '2025-06-08 00:59:51', '2025-06-08 00:59:51', '2025-06-08 00:59:51', '2025-06-08 00:59:51', '2025-06-08 00:59:51', '2025-06-08 00:59:51', '2025-06-08 00:59:51', '2025-06-08 00:59:51', '2025-06-08 00:59:51', '2025-06-08 00:59:51', '2025-06-08 00:59:51', '2025-06-08 00:59:51', '2025-06-08 00:59:51']\n",
    "import numpy as np\n",
    "for i in np.random.normal(50,2,5):\n",
    "    test.update_stock(stock_price=i)\n",
    "test.stock_history['date']=['2025-02-06 11:36:22', '2025-03-06 11:36:22', '2025-04-08 01:02:26', '2025-04-28 01:02:26', '2025-05-02 01:02:26', '2025-05-08 01:02:26', '2025-06-04 01:02:26', '2025-06-08 01:02:26']\n",
    "\n",
    "plot_stock_value(test)\n"
   ]
  },
  {
   "cell_type": "markdown",
   "id": "f7e984d7",
   "metadata": {},
   "source": [
    "## **Update Movements**"
   ]
  },
  {
   "cell_type": "code",
   "execution_count": null,
   "id": "5b6cef01",
   "metadata": {},
   "outputs": [],
   "source": [
    "import polars as pl\n",
    "import numpy as np\n",
    "from Libs.Management.bank_api import get_history_movements, update_movements_file\n",
    "update_movements_file(new_orig_mov_file='data/raw_data/operazioni.xlsx', header_start=17)\n",
    "get_history_movements().head()"
   ]
  },
  {
   "cell_type": "markdown",
   "id": "9e4bb8af",
   "metadata": {},
   "source": [
    "## **Update Balance**"
   ]
  },
  {
   "cell_type": "code",
   "execution_count": null,
   "id": "037ac16d",
   "metadata": {},
   "outputs": [],
   "source": [
    "import polars as pl\n",
    "import numpy as np\n",
    "from Libs.Management.bank_api import get_current_balance, get_history_balance, reconstruct_balance, update_balance_from_movements\n",
    "# reconstruct_balance(current_balance=to_give) # Only for creating the balance history\n",
    "update_balance_from_movements()\n",
    "get_history_balance().head()"
   ]
  },
  {
   "cell_type": "markdown",
   "id": "a9a0fcd0",
   "metadata": {},
   "source": [
    "# **Prediciton from Balance Example**"
   ]
  },
  {
   "cell_type": "code",
   "execution_count": null,
   "id": "091b4317",
   "metadata": {},
   "outputs": [],
   "source": [
    "from Libs.Models.data_visualization import plot_history_balance, overlay_generic_graph\n",
    "from Libs.Management.bank_api import get_history_balance\n",
    "from Libs.Models.data_manipulation import get_regularized_dataset, get_moving_average\n",
    "\n",
    "# Get Balance, regularize it and take the moving average\n",
    "balance_df = get_history_balance()\n",
    "df = get_regularized_dataset(balance_df, reg_period='1d')\n",
    "df_ma = get_moving_average(df, window_size=15)\n",
    "\n",
    "# Perform date to int conversion so that we can perform data imputation on the missing vals from moving average\n",
    "from Libs.Models.data_manipulation import simple_linear_imputation, convert_date_to_numeric, convert_numeric_to_date\n",
    "df_ma_imputed = convert_date_to_numeric(df_ma, ['date'])\n",
    "df_ma_imputed = simple_linear_imputation(df_ma_imputed, 'date', 'moving_average')\n",
    "\n",
    "# Perform a linear fit on the imputed dataset and go back to date format\n",
    "from Libs.Models.Predictions.algorithms import linear_fit\n",
    "from Libs.Models.Predictions.algorithms import get_model_prediction\n",
    "\n",
    "df_ma_imputed, linear_model = linear_fit(dataset=df_ma_imputed, cols_to_fit=None)\n",
    "df_ma_imputed = convert_numeric_to_date(df_ma_imputed, ['date'])\n",
    "\n",
    "# Define some new dates for forecasting and perform the prediction with the model created\n",
    "X = convert_date_to_numeric(['2025-06-01', '2025-07-01', '2025-08-01'])\n",
    "pred_df = get_model_prediction(X, linear_model)\n",
    "pred_df = convert_numeric_to_date(pred_df, date_cols=['date'])\n",
    "\n",
    "# Show the results\n",
    "plot_history_balance(balance_df=df, additional_plots=[{'plot_function' : overlay_generic_graph,\n",
    "                                                       'plot_parameters':{'dataset':df_ma, 'col_to_plot':'moving_average',\n",
    "                                                                          'color':'darkred', 'linestyle':'--','label':'Moving Average'}}])\n",
    "\n",
    "plot_history_balance(balance_df=df_ma, balance_col='total_value', additional_plots=[\n",
    "    {'plot_function':overlay_generic_graph, 'plot_parameters':{'dataset':df_ma_imputed, 'col_to_plot':'moving_average', 'label':'moving average (linear imputation)'}},\n",
    "    {'plot_function':overlay_generic_graph, 'plot_parameters':{'dataset':pred_df, 'col_to_plot':'model_prediction', 'label':'linear prediction', 'marker':'o', 'linestyle':'--'}}\n",
    "    ]\n",
    ")\n",
    "\n"
   ]
  },
  {
   "cell_type": "code",
   "execution_count": null,
   "id": "aab34e74",
   "metadata": {},
   "outputs": [],
   "source": [
    "from Libs.Models.Predictions.algorithms import goal_reach_prediction\n",
    "goal_reach_prediction(linear_model, '2025-07-01', 15_000)"
   ]
  },
  {
   "cell_type": "code",
   "execution_count": null,
   "id": "bc9d4a99",
   "metadata": {},
   "outputs": [],
   "source": [
    "import matplotlib.pyplot as plt\n",
    "import numpy as np\n",
    "\n",
    "a = ['2025-11-01', '2025-11-02', '2025-11-3','2025-11-04','2025-11-05']\n",
    "b = np.random.rand(len(a))*10+np.linspace(0,10, len(a))\n",
    "\n",
    "\n",
    "def plot_generic_timeseries(dates : list, vals : list, figsize=(12,6), show=True, title=None, label=''):\n",
    "    \"\"\"\n",
    "    \"\"\"\n",
    "\n",
    "    numerical_dates = convert_date_to_numeric(dates)[:,0]\n",
    "    plt.plot(numerical_dates, vals, marker='o', linestyle='--', linewidth=1, color='black', label=label, alpha=0.7)\n",
    "\n",
    "    if title is not None:\n",
    "        plt.title(title)\n",
    "\n",
    "    plt.xlabel('Date')\n",
    "    plt.ylabel('€')\n",
    "    plt.xticks(numerical_dates, dates)\n",
    "    plt.xticks(rotation=45)\n",
    "    plt.grid(alpha=0.4)\n",
    "    plt.tight_layout()\n",
    "    plt.legend()\n",
    "\n",
    "    if show:\n",
    "        plt.figure(figsize=figsize)\n",
    "        plt.show()\n",
    "\n",
    "plot_generic_timeseries(a, b, show=False)\n",
    "a = ['2025-11-01', '2025-11-02', '2025-11-3','2025-11-04']\n",
    "b = np.random.rand(len(a))+np.linspace(0,10, len(a))\n",
    "plot_generic_timeseries(a, b, show=True, label='tt')\n",
    "# plt.show()"
   ]
  }
 ],
 "metadata": {
  "kernelspec": {
   "display_name": "Python 3",
   "language": "python",
   "name": "python3"
  },
  "language_info": {
   "codemirror_mode": {
    "name": "ipython",
    "version": 3
   },
   "file_extension": ".py",
   "mimetype": "text/x-python",
   "name": "python",
   "nbconvert_exporter": "python",
   "pygments_lexer": "ipython3",
   "version": "3.11.9"
  }
 },
 "nbformat": 4,
 "nbformat_minor": 5
}
