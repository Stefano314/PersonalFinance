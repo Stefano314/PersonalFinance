{
 "cells": [
  {
   "cell_type": "code",
   "execution_count": null,
   "id": "0ef1a353",
   "metadata": {},
   "outputs": [],
   "source": [
    "from Libs.Profile.stocks import Stock, project_stock_price\n",
    "from Libs.Profile.portfolio import FinancialPortfolio\n",
    "import os\n",
    "from Libs.global_vars import STOCKS_HISTORY_PATH\n",
    "\n",
    "portfolio = FinancialPortfolio('verybigpack')\n",
    "\n",
    "# Load every file\n",
    "for file_stock in [f for f in os.listdir(STOCKS_HISTORY_PATH) if f.endswith('.csv')]:\n",
    "    portfolio.add_stock(Stock(stock_to_load=file_stock))\n",
    "print(portfolio)\n",
    "portfolio.get_ammounts_with_risks()\n",
    "\n",
    "\n",
    "test = portfolio.get_stock('S&P500')\n",
    "test.update_stock(stock_prior_risk=0.02)\n",
    "_,a = project_stock_price(stock=test, expected_year_gain=1, return_datetime=True, noise=True,\n",
    "                          start_date='2025-01-01', end_date='2026-01-01', dividends_months=None)\n",
    "r,b = project_stock_price(stock=test, expected_year_gain=0.5, return_datetime=True, noise=True,\n",
    "                          start_date='2025-01-01', end_date='2026-01-01', dividends_months=2)\n",
    "\n",
    "import matplotlib.pyplot as plt\n",
    "plt.plot(r, a, label='linear', marker='o')\n",
    "plt.plot(r,b, label='compound', marker='o')\n",
    "plt.grid(alpha=0.4)\n",
    "plt.legend()\n",
    "plt.show()"
   ]
  },
  {
   "cell_type": "markdown",
   "id": "f7e984d7",
   "metadata": {},
   "source": [
    "## **Update Movements**"
   ]
  },
  {
   "cell_type": "code",
   "execution_count": null,
   "id": "5b6cef01",
   "metadata": {},
   "outputs": [],
   "source": [
    "import polars as pl\n",
    "import numpy as np\n",
    "from Libs.Management.bank_api import get_history_movements, update_movements_file\n",
    "update_movements_file(new_orig_mov_file='data/raw_data/operazioni.xlsx', header_start=17)\n",
    "get_history_movements().head()"
   ]
  },
  {
   "cell_type": "markdown",
   "id": "9e4bb8af",
   "metadata": {},
   "source": [
    "## **Update Balance**"
   ]
  },
  {
   "cell_type": "code",
   "execution_count": null,
   "id": "037ac16d",
   "metadata": {},
   "outputs": [],
   "source": [
    "import polars as pl\n",
    "import numpy as np\n",
    "from Libs.Management.bank_api import get_current_balance, get_history_balance, reconstruct_balance, update_balance_from_movements\n",
    "# reconstruct_balance(current_balance=to_give) # Only for creating the balance history\n",
    "update_balance_from_movements()\n",
    "get_history_balance().head()"
   ]
  },
  {
   "cell_type": "code",
   "execution_count": null,
   "id": "091b4317",
   "metadata": {},
   "outputs": [],
   "source": [
    "from Libs.Models.data_visualization import plot_history_movements, plot_history_balance, overlay_generic_graph\n",
    "from Libs.Management.bank_api import get_history_balance\n",
    "from Libs.Models.data_manipulation import get_regularized_dataset\n",
    "\n",
    "import polars as pl\n",
    "import numpy as np\n",
    "\n",
    "balance_df = get_history_balance()\n",
    "\n",
    "def get_moving_average(dataset : pl.DataFrame, window_size=2, regularize=False) -> pl.DataFrame:\n",
    "    \"\"\"\n",
    "    \"\"\"\n",
    "    dataset = dataset.with_columns(\n",
    "        moving_average=pl.col(dataset.columns[-1]).rolling_mean(center=True, window_size=window_size),\n",
    "    )\n",
    "    return dataset\n",
    "\n",
    "df = get_regularized_dataset(balance_df, reg_period='1d')\n",
    "df_ma = get_moving_average(df, window_size=15)\n",
    "plot_history_balance(balance_df=df, additional_plots=[{'plot_function' : overlay_generic_graph, 'plot_parameters':{'dataset':df_ma, 'col_to_plot':'moving_average',\n",
    "                                                                                                            'color':'darkred', 'linestyle':'--','label':'Moving Average'}}])\n"
   ]
  },
  {
   "cell_type": "code",
   "execution_count": null,
   "id": "5ac4c25f",
   "metadata": {},
   "outputs": [],
   "source": [
    "# from Libs.Models.Predictions.algorithms import linear_interpolation\n",
    "from sklearn.linear_model import LinearRegression\n",
    "from Libs.Models.data_manipulation import simple_linear_imputation, convert_date_to_numeric, convert_numeric_to_date\n",
    "\n",
    "# For imputation we need numerical values\n",
    "df_ma_imputed = convert_date_to_numeric(df_ma, ['date'])\n",
    "df_ma_imputed = simple_linear_imputation(df_ma_imputed, 'date', 'moving_average')\n",
    "df_ma_imputed = convert_numeric_to_date(df_ma_imputed, ['date'])\n",
    "df_ma_imputed.head(1)"
   ]
  },
  {
   "cell_type": "code",
   "execution_count": null,
   "id": "b08b4848",
   "metadata": {},
   "outputs": [],
   "source": [
    "def get_prediction(X : np.ndarray, model : dict, prediction_column=None):\n",
    "    \"\"\"\n",
    "    X : X matrix to predict (if single, it should be a vector column, Ax=pred)\n",
    "    \"\"\"\n",
    "\n",
    "    if prediction_column is None:\n",
    "        prediction_column='model_prediction'\n",
    "\n",
    "    prediction = model['model'].predict(X)\n",
    "    A = pl.DataFrame()\n",
    "\n",
    "    for ind, column_vector in enumerate(X.T):\n",
    "        print(column_vector)\n",
    "        A = A.with_columns(pl.Series(model['x_cols'][ind], column_vector))\n",
    "\n",
    "    A = A.with_columns(pl.Series(prediction_column, prediction.T[0]))\n",
    "    return A\n",
    "\n",
    "\n",
    "def goal_reach_prediction(model : dict, start_date : str, max_iter=1000, goal=30_000):\n",
    "    \"\"\"\n",
    "    # 1d = 86400000000\n",
    "    \"\"\"\n",
    "    start_date = convert_date_to_numeric(start_date)\n",
    "    initial_val = model['model'].predict(start_date)\n",
    "\n",
    "    if goal<=initial_val:\n",
    "        return start_date\n",
    "    \n",
    "    x = start_date\n",
    "    for i in range(max_iter):\n",
    "        y_pred = model['model'].predict(x.reshape(1, -1))[0]\n",
    "        error = y_pred - goal\n",
    "        \n",
    "        if abs(error) < 10e-6:\n",
    "            print(f\"Converged in {i} steps\")\n",
    "            return x\n",
    "        \n",
    "        # Update x by moving against error direction (approximate)\n",
    "        # We'll perturb each feature slightly to find which direction improves the output\n",
    "        grad_approx = np.zeros_like(x)\n",
    "        delta = 1e-4\n",
    "        \n",
    "        for j in range(len(x)):\n",
    "            x_up = x.copy()\n",
    "            x_up[j] += delta\n",
    "            y_up = model.predict(x_up.reshape(1, -1))[0]\n",
    "            \n",
    "            # Approximate derivative\n",
    "            grad_approx[j] = (y_up - y_pred) / delta\n",
    "        \n",
    "        # Gradient descent step (move in the direction that reduces the error)\n",
    "        x -= 0.01 * error * grad_approx  # error term scales the gradient\n",
    "\n",
    "    raise RuntimeError(\"Did not converge\")\n",
    "\n",
    "\n",
    "from Libs.Models.Predictions.algorithms import linear_fit\n",
    "df_ma, linear_model = linear_fit(dataset=df_ma, cols_to_fit=None)\n",
    "df_ma = convert_numeric_to_date(df_ma, ['date'])\n",
    "\n",
    "goal_reach_prediction(linear_model, start_date=['2025-01-01'])\n",
    "\n",
    "# X = convert_date_to_numeric(['2025-06-01', '2025-07-01', '2025-08-01'])\n",
    "# pred_df = get_prediction(X, linear_model)\n",
    "# pred_df = convert_numeric_to_date(pred_df, date_cols=['date'])\n"
   ]
  },
  {
   "cell_type": "code",
   "execution_count": null,
   "id": "fe529cb3",
   "metadata": {},
   "outputs": [],
   "source": [
    "\n",
    "plot_history_balance(balance_df=df_ma, balance_col='total_value', additional_plots=[\n",
    "    {'plot_function':overlay_generic_graph, 'plot_parameters':{'dataset':df_ma_imputed, 'col_to_plot':'moving_average', 'label':'moving average (linear imputation)'}},\n",
    "    {'plot_function':overlay_generic_graph, 'plot_parameters':{'dataset':pred_df, 'col_to_plot':'model_prediction', 'label':'linear prediction', 'marker':'o', 'linestyle':'--'}}\n",
    "    ]\n",
    ")"
   ]
  },
  {
   "cell_type": "code",
   "execution_count": null,
   "id": "c255816c",
   "metadata": {},
   "outputs": [],
   "source": [
    "df_ma.select('date').cast(pl.Datetime)"
   ]
  }
 ],
 "metadata": {
  "kernelspec": {
   "display_name": "Python 3",
   "language": "python",
   "name": "python3"
  },
  "language_info": {
   "codemirror_mode": {
    "name": "ipython",
    "version": 3
   },
   "file_extension": ".py",
   "mimetype": "text/x-python",
   "name": "python",
   "nbconvert_exporter": "python",
   "pygments_lexer": "ipython3",
   "version": "3.11.9"
  }
 },
 "nbformat": 4,
 "nbformat_minor": 5
}
